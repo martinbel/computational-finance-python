{
 "cells": [
  {
   "cell_type": "code",
   "execution_count": 2,
   "id": "c75268b5",
   "metadata": {
    "scrolled": true
   },
   "outputs": [],
   "source": [
    "import pandas as pd\n",
    "import numpy as np\n",
    "import yfinance as yf\n",
    "import matplotlib.pyplot as plt"
   ]
  },
  {
   "cell_type": "code",
   "execution_count": 3,
   "id": "7df381ad",
   "metadata": {
    "scrolled": true
   },
   "outputs": [],
   "source": [
    "start_date = '2005-01-01'\n",
    "end_date = '2023-02-01'"
   ]
  },
  {
   "cell_type": "code",
   "execution_count": 4,
   "id": "41511c82",
   "metadata": {
    "scrolled": true
   },
   "outputs": [
    {
     "name": "stdout",
     "output_type": "stream",
     "text": [
      "[*********************100%***********************]  1 of 1 completed\n"
     ]
    }
   ],
   "source": [
    "# Download data \n",
    "ticker = 'SPY'\n",
    "df = yf.download(ticker, start_date, end_date)"
   ]
  },
  {
   "cell_type": "code",
   "execution_count": 5,
   "id": "bb26a405",
   "metadata": {
    "scrolled": true
   },
   "outputs": [
    {
     "data": {
      "text/html": [
       "<div>\n",
       "<style scoped>\n",
       "    .dataframe tbody tr th:only-of-type {\n",
       "        vertical-align: middle;\n",
       "    }\n",
       "\n",
       "    .dataframe tbody tr th {\n",
       "        vertical-align: top;\n",
       "    }\n",
       "\n",
       "    .dataframe thead th {\n",
       "        text-align: right;\n",
       "    }\n",
       "</style>\n",
       "<table border=\"1\" class=\"dataframe\">\n",
       "  <thead>\n",
       "    <tr style=\"text-align: right;\">\n",
       "      <th></th>\n",
       "      <th>Open</th>\n",
       "      <th>High</th>\n",
       "      <th>Low</th>\n",
       "      <th>Close</th>\n",
       "      <th>Adj Close</th>\n",
       "      <th>Volume</th>\n",
       "    </tr>\n",
       "    <tr>\n",
       "      <th>Date</th>\n",
       "      <th></th>\n",
       "      <th></th>\n",
       "      <th></th>\n",
       "      <th></th>\n",
       "      <th></th>\n",
       "      <th></th>\n",
       "    </tr>\n",
       "  </thead>\n",
       "  <tbody>\n",
       "    <tr>\n",
       "      <th>2005-01-03 00:00:00-05:00</th>\n",
       "      <td>121.559998</td>\n",
       "      <td>121.760002</td>\n",
       "      <td>119.900002</td>\n",
       "      <td>120.300003</td>\n",
       "      <td>84.894325</td>\n",
       "      <td>55748000</td>\n",
       "    </tr>\n",
       "    <tr>\n",
       "      <th>2005-01-04 00:00:00-05:00</th>\n",
       "      <td>120.459999</td>\n",
       "      <td>120.540001</td>\n",
       "      <td>118.440002</td>\n",
       "      <td>118.830002</td>\n",
       "      <td>83.856987</td>\n",
       "      <td>69167600</td>\n",
       "    </tr>\n",
       "    <tr>\n",
       "      <th>2005-01-05 00:00:00-05:00</th>\n",
       "      <td>118.739998</td>\n",
       "      <td>119.250000</td>\n",
       "      <td>118.000000</td>\n",
       "      <td>118.010002</td>\n",
       "      <td>83.278297</td>\n",
       "      <td>65667300</td>\n",
       "    </tr>\n",
       "    <tr>\n",
       "      <th>2005-01-06 00:00:00-05:00</th>\n",
       "      <td>118.440002</td>\n",
       "      <td>119.150002</td>\n",
       "      <td>118.260002</td>\n",
       "      <td>118.610001</td>\n",
       "      <td>83.701759</td>\n",
       "      <td>47814700</td>\n",
       "    </tr>\n",
       "    <tr>\n",
       "      <th>2005-01-07 00:00:00-05:00</th>\n",
       "      <td>118.970001</td>\n",
       "      <td>119.230003</td>\n",
       "      <td>118.129997</td>\n",
       "      <td>118.440002</td>\n",
       "      <td>83.581772</td>\n",
       "      <td>55847700</td>\n",
       "    </tr>\n",
       "  </tbody>\n",
       "</table>\n",
       "</div>"
      ],
      "text/plain": [
       "                                 Open        High         Low       Close  \\\n",
       "Date                                                                        \n",
       "2005-01-03 00:00:00-05:00  121.559998  121.760002  119.900002  120.300003   \n",
       "2005-01-04 00:00:00-05:00  120.459999  120.540001  118.440002  118.830002   \n",
       "2005-01-05 00:00:00-05:00  118.739998  119.250000  118.000000  118.010002   \n",
       "2005-01-06 00:00:00-05:00  118.440002  119.150002  118.260002  118.610001   \n",
       "2005-01-07 00:00:00-05:00  118.970001  119.230003  118.129997  118.440002   \n",
       "\n",
       "                           Adj Close    Volume  \n",
       "Date                                            \n",
       "2005-01-03 00:00:00-05:00  84.894325  55748000  \n",
       "2005-01-04 00:00:00-05:00  83.856987  69167600  \n",
       "2005-01-05 00:00:00-05:00  83.278297  65667300  \n",
       "2005-01-06 00:00:00-05:00  83.701759  47814700  \n",
       "2005-01-07 00:00:00-05:00  83.581772  55847700  "
      ]
     },
     "execution_count": 5,
     "metadata": {},
     "output_type": "execute_result"
    }
   ],
   "source": [
    "df.head()"
   ]
  },
  {
   "cell_type": "code",
   "execution_count": 6,
   "id": "3f2ede1c",
   "metadata": {
    "scrolled": true
   },
   "outputs": [],
   "source": [
    "# convert index to date\n",
    "df.index = df.index.date"
   ]
  },
  {
   "cell_type": "code",
   "execution_count": 7,
   "id": "f7b64fc7",
   "metadata": {
    "scrolled": true
   },
   "outputs": [
    {
     "data": {
      "text/html": [
       "<div>\n",
       "<style scoped>\n",
       "    .dataframe tbody tr th:only-of-type {\n",
       "        vertical-align: middle;\n",
       "    }\n",
       "\n",
       "    .dataframe tbody tr th {\n",
       "        vertical-align: top;\n",
       "    }\n",
       "\n",
       "    .dataframe thead th {\n",
       "        text-align: right;\n",
       "    }\n",
       "</style>\n",
       "<table border=\"1\" class=\"dataframe\">\n",
       "  <thead>\n",
       "    <tr style=\"text-align: right;\">\n",
       "      <th></th>\n",
       "      <th>Open</th>\n",
       "      <th>High</th>\n",
       "      <th>Low</th>\n",
       "      <th>Close</th>\n",
       "      <th>Adj Close</th>\n",
       "      <th>Volume</th>\n",
       "    </tr>\n",
       "  </thead>\n",
       "  <tbody>\n",
       "    <tr>\n",
       "      <th>2005-01-03</th>\n",
       "      <td>121.559998</td>\n",
       "      <td>121.760002</td>\n",
       "      <td>119.900002</td>\n",
       "      <td>120.300003</td>\n",
       "      <td>84.894325</td>\n",
       "      <td>55748000</td>\n",
       "    </tr>\n",
       "    <tr>\n",
       "      <th>2005-01-04</th>\n",
       "      <td>120.459999</td>\n",
       "      <td>120.540001</td>\n",
       "      <td>118.440002</td>\n",
       "      <td>118.830002</td>\n",
       "      <td>83.856987</td>\n",
       "      <td>69167600</td>\n",
       "    </tr>\n",
       "    <tr>\n",
       "      <th>2005-01-05</th>\n",
       "      <td>118.739998</td>\n",
       "      <td>119.250000</td>\n",
       "      <td>118.000000</td>\n",
       "      <td>118.010002</td>\n",
       "      <td>83.278297</td>\n",
       "      <td>65667300</td>\n",
       "    </tr>\n",
       "    <tr>\n",
       "      <th>2005-01-06</th>\n",
       "      <td>118.440002</td>\n",
       "      <td>119.150002</td>\n",
       "      <td>118.260002</td>\n",
       "      <td>118.610001</td>\n",
       "      <td>83.701759</td>\n",
       "      <td>47814700</td>\n",
       "    </tr>\n",
       "    <tr>\n",
       "      <th>2005-01-07</th>\n",
       "      <td>118.970001</td>\n",
       "      <td>119.230003</td>\n",
       "      <td>118.129997</td>\n",
       "      <td>118.440002</td>\n",
       "      <td>83.581772</td>\n",
       "      <td>55847700</td>\n",
       "    </tr>\n",
       "  </tbody>\n",
       "</table>\n",
       "</div>"
      ],
      "text/plain": [
       "                  Open        High         Low       Close  Adj Close  \\\n",
       "2005-01-03  121.559998  121.760002  119.900002  120.300003  84.894325   \n",
       "2005-01-04  120.459999  120.540001  118.440002  118.830002  83.856987   \n",
       "2005-01-05  118.739998  119.250000  118.000000  118.010002  83.278297   \n",
       "2005-01-06  118.440002  119.150002  118.260002  118.610001  83.701759   \n",
       "2005-01-07  118.970001  119.230003  118.129997  118.440002  83.581772   \n",
       "\n",
       "              Volume  \n",
       "2005-01-03  55748000  \n",
       "2005-01-04  69167600  \n",
       "2005-01-05  65667300  \n",
       "2005-01-06  47814700  \n",
       "2005-01-07  55847700  "
      ]
     },
     "execution_count": 7,
     "metadata": {},
     "output_type": "execute_result"
    }
   ],
   "source": [
    "df.head()"
   ]
  },
  {
   "cell_type": "markdown",
   "id": "683f8533",
   "metadata": {},
   "source": [
    "# Compute daily returns"
   ]
  },
  {
   "cell_type": "code",
   "execution_count": 8,
   "id": "12121b2d",
   "metadata": {
    "scrolled": true
   },
   "outputs": [
    {
     "data": {
      "text/html": [
       "<div>\n",
       "<style scoped>\n",
       "    .dataframe tbody tr th:only-of-type {\n",
       "        vertical-align: middle;\n",
       "    }\n",
       "\n",
       "    .dataframe tbody tr th {\n",
       "        vertical-align: top;\n",
       "    }\n",
       "\n",
       "    .dataframe thead th {\n",
       "        text-align: right;\n",
       "    }\n",
       "</style>\n",
       "<table border=\"1\" class=\"dataframe\">\n",
       "  <thead>\n",
       "    <tr style=\"text-align: right;\">\n",
       "      <th></th>\n",
       "      <th>Open</th>\n",
       "      <th>High</th>\n",
       "      <th>Low</th>\n",
       "      <th>Close</th>\n",
       "      <th>Adj Close</th>\n",
       "      <th>Volume</th>\n",
       "      <th>R</th>\n",
       "    </tr>\n",
       "  </thead>\n",
       "  <tbody>\n",
       "    <tr>\n",
       "      <th>2005-01-03</th>\n",
       "      <td>121.559998</td>\n",
       "      <td>121.760002</td>\n",
       "      <td>119.900002</td>\n",
       "      <td>120.300003</td>\n",
       "      <td>84.894325</td>\n",
       "      <td>55748000</td>\n",
       "      <td>NaN</td>\n",
       "    </tr>\n",
       "    <tr>\n",
       "      <th>2005-01-04</th>\n",
       "      <td>120.459999</td>\n",
       "      <td>120.540001</td>\n",
       "      <td>118.440002</td>\n",
       "      <td>118.830002</td>\n",
       "      <td>83.856987</td>\n",
       "      <td>69167600</td>\n",
       "      <td>-0.012219</td>\n",
       "    </tr>\n",
       "    <tr>\n",
       "      <th>2005-01-05</th>\n",
       "      <td>118.739998</td>\n",
       "      <td>119.250000</td>\n",
       "      <td>118.000000</td>\n",
       "      <td>118.010002</td>\n",
       "      <td>83.278297</td>\n",
       "      <td>65667300</td>\n",
       "      <td>-0.006901</td>\n",
       "    </tr>\n",
       "  </tbody>\n",
       "</table>\n",
       "</div>"
      ],
      "text/plain": [
       "                  Open        High         Low       Close  Adj Close  \\\n",
       "2005-01-03  121.559998  121.760002  119.900002  120.300003  84.894325   \n",
       "2005-01-04  120.459999  120.540001  118.440002  118.830002  83.856987   \n",
       "2005-01-05  118.739998  119.250000  118.000000  118.010002  83.278297   \n",
       "\n",
       "              Volume         R  \n",
       "2005-01-03  55748000       NaN  \n",
       "2005-01-04  69167600 -0.012219  \n",
       "2005-01-05  65667300 -0.006901  "
      ]
     },
     "execution_count": 8,
     "metadata": {},
     "output_type": "execute_result"
    }
   ],
   "source": [
    "df['R'] = df['Adj Close'].pct_change()\n",
    "df.head(3)"
   ]
  },
  {
   "cell_type": "markdown",
   "id": "d080206b",
   "metadata": {},
   "source": [
    "#### How does it work with an example?"
   ]
  },
  {
   "cell_type": "code",
   "execution_count": 9,
   "id": "e79bf3f3",
   "metadata": {
    "scrolled": true
   },
   "outputs": [
    {
     "data": {
      "text/plain": [
       "-0.012219612075941688"
      ]
     },
     "execution_count": 9,
     "metadata": {},
     "output_type": "execute_result"
    }
   ],
   "source": [
    "# one day return\n",
    "83.856972 / 84.894348 - 1"
   ]
  },
  {
   "cell_type": "code",
   "execution_count": 10,
   "id": "0eddc470",
   "metadata": {},
   "outputs": [
    {
     "data": {
      "text/plain": [
       "-0.01903602581410957"
      ]
     },
     "execution_count": 10,
     "metadata": {},
     "output_type": "execute_result"
    }
   ],
   "source": [
    "# 2 day return\n",
    "83.278297/84.894348 -1"
   ]
  },
  {
   "cell_type": "code",
   "execution_count": 11,
   "id": "6dae7a48",
   "metadata": {},
   "outputs": [
    {
     "data": {
      "text/plain": [
       "-0.01903666978000007"
      ]
     },
     "execution_count": 11,
     "metadata": {},
     "output_type": "execute_result"
    }
   ],
   "source": [
    "# 2 day return from 1 day returns\n",
    "# (1 + r1) * (1 + r2) = 2 day return\n",
    "(1 + -0.012220) * (1 + -0.006901) -1 "
   ]
  },
  {
   "cell_type": "markdown",
   "id": "8cbb9ebb",
   "metadata": {},
   "source": [
    "# Plot the daily returns distribution"
   ]
  },
  {
   "cell_type": "code",
   "execution_count": 12,
   "id": "cc226e4e",
   "metadata": {
    "scrolled": false
   },
   "outputs": [
    {
     "data": {
      "text/plain": [
       "Text(0.5, 1.0, 'Daily Returns Distribution')"
      ]
     },
     "execution_count": 12,
     "metadata": {},
     "output_type": "execute_result"
    },
    {
     "data": {
      "image/png": "[encoded data removed]",
      "text/plain": [
       "<Figure size 640x480 with 1 Axes>"
      ]
     },
     "metadata": {},
     "output_type": "display_data"
    }
   ],
   "source": [
    "ax = df.R.hist(bins=50)\n",
    "ax.set_title('Daily Returns Distribution')"
   ]
  },
  {
   "cell_type": "code",
   "execution_count": 13,
   "id": "fe305299",
   "metadata": {
    "scrolled": true
   },
   "outputs": [
    {
     "data": {
      "text/plain": [
       "0.0   -0.109424\n",
       "0.1   -0.011832\n",
       "0.2   -0.006127\n",
       "0.3   -0.002814\n",
       "0.4   -0.000830\n",
       "0.5    0.000673\n",
       "0.6    0.002420\n",
       "0.7    0.004493\n",
       "0.8    0.007431\n",
       "0.9    0.012069\n",
       "1.0    0.145198\n",
       "Name: R, dtype: float64"
      ]
     },
     "execution_count": 13,
     "metadata": {},
     "output_type": "execute_result"
    }
   ],
   "source": [
    "# Daily returns decile table\n",
    "breaks = np.arange(0, 1.1, 0.1)\n",
    "df.R.quantile(breaks)\n",
    "# .to_frame().T"
   ]
  },
  {
   "cell_type": "markdown",
   "id": "a879016d",
   "metadata": {},
   "source": [
    "# Alternative method to compute returns "
   ]
  },
  {
   "cell_type": "code",
   "execution_count": 14,
   "id": "13030180",
   "metadata": {
    "scrolled": true
   },
   "outputs": [
    {
     "data": {
      "text/html": [
       "<div>\n",
       "<style scoped>\n",
       "    .dataframe tbody tr th:only-of-type {\n",
       "        vertical-align: middle;\n",
       "    }\n",
       "\n",
       "    .dataframe tbody tr th {\n",
       "        vertical-align: top;\n",
       "    }\n",
       "\n",
       "    .dataframe thead th {\n",
       "        text-align: right;\n",
       "    }\n",
       "</style>\n",
       "<table border=\"1\" class=\"dataframe\">\n",
       "  <thead>\n",
       "    <tr style=\"text-align: right;\">\n",
       "      <th></th>\n",
       "      <th>Open</th>\n",
       "      <th>High</th>\n",
       "      <th>Low</th>\n",
       "      <th>Close</th>\n",
       "      <th>Adj Close</th>\n",
       "      <th>Volume</th>\n",
       "      <th>R</th>\n",
       "      <th>adjclose_lag</th>\n",
       "    </tr>\n",
       "  </thead>\n",
       "  <tbody>\n",
       "    <tr>\n",
       "      <th>2005-01-03</th>\n",
       "      <td>121.559998</td>\n",
       "      <td>121.760002</td>\n",
       "      <td>119.900002</td>\n",
       "      <td>120.300003</td>\n",
       "      <td>84.894325</td>\n",
       "      <td>55748000</td>\n",
       "      <td>NaN</td>\n",
       "      <td>NaN</td>\n",
       "    </tr>\n",
       "    <tr>\n",
       "      <th>2005-01-04</th>\n",
       "      <td>120.459999</td>\n",
       "      <td>120.540001</td>\n",
       "      <td>118.440002</td>\n",
       "      <td>118.830002</td>\n",
       "      <td>83.856987</td>\n",
       "      <td>69167600</td>\n",
       "      <td>-0.012219</td>\n",
       "      <td>84.894325</td>\n",
       "    </tr>\n",
       "    <tr>\n",
       "      <th>2005-01-05</th>\n",
       "      <td>118.739998</td>\n",
       "      <td>119.250000</td>\n",
       "      <td>118.000000</td>\n",
       "      <td>118.010002</td>\n",
       "      <td>83.278297</td>\n",
       "      <td>65667300</td>\n",
       "      <td>-0.006901</td>\n",
       "      <td>83.856987</td>\n",
       "    </tr>\n",
       "  </tbody>\n",
       "</table>\n",
       "</div>"
      ],
      "text/plain": [
       "                  Open        High         Low       Close  Adj Close  \\\n",
       "2005-01-03  121.559998  121.760002  119.900002  120.300003  84.894325   \n",
       "2005-01-04  120.459999  120.540001  118.440002  118.830002  83.856987   \n",
       "2005-01-05  118.739998  119.250000  118.000000  118.010002  83.278297   \n",
       "\n",
       "              Volume         R  adjclose_lag  \n",
       "2005-01-03  55748000       NaN           NaN  \n",
       "2005-01-04  69167600 -0.012219     84.894325  \n",
       "2005-01-05  65667300 -0.006901     83.856987  "
      ]
     },
     "execution_count": 14,
     "metadata": {},
     "output_type": "execute_result"
    }
   ],
   "source": [
    "df['adjclose_lag'] = df['Adj Close'].shift(1)\n",
    "df.head(3)"
   ]
  },
  {
   "cell_type": "code",
   "execution_count": 15,
   "id": "665c96dd",
   "metadata": {
    "scrolled": true
   },
   "outputs": [],
   "source": [
    "df['R'] = df['Adj Close'] / df['adjclose_lag'] - 1"
   ]
  },
  {
   "cell_type": "code",
   "execution_count": 16,
   "id": "de5b7275",
   "metadata": {
    "scrolled": true
   },
   "outputs": [],
   "source": [
    "df = df[~df.R.isnull()]\n",
    "df = df['R'].to_frame()"
   ]
  },
  {
   "cell_type": "code",
   "execution_count": 17,
   "id": "3c37b487",
   "metadata": {
    "scrolled": true
   },
   "outputs": [
    {
     "data": {
      "text/html": [
       "<div>\n",
       "<style scoped>\n",
       "    .dataframe tbody tr th:only-of-type {\n",
       "        vertical-align: middle;\n",
       "    }\n",
       "\n",
       "    .dataframe tbody tr th {\n",
       "        vertical-align: top;\n",
       "    }\n",
       "\n",
       "    .dataframe thead th {\n",
       "        text-align: right;\n",
       "    }\n",
       "</style>\n",
       "<table border=\"1\" class=\"dataframe\">\n",
       "  <thead>\n",
       "    <tr style=\"text-align: right;\">\n",
       "      <th></th>\n",
       "      <th>R</th>\n",
       "    </tr>\n",
       "  </thead>\n",
       "  <tbody>\n",
       "    <tr>\n",
       "      <th>2005-01-04</th>\n",
       "      <td>-0.012219</td>\n",
       "    </tr>\n",
       "    <tr>\n",
       "      <th>2005-01-05</th>\n",
       "      <td>-0.006901</td>\n",
       "    </tr>\n",
       "    <tr>\n",
       "      <th>2005-01-06</th>\n",
       "      <td>0.005085</td>\n",
       "    </tr>\n",
       "    <tr>\n",
       "      <th>2005-01-07</th>\n",
       "      <td>-0.001434</td>\n",
       "    </tr>\n",
       "    <tr>\n",
       "      <th>2005-01-10</th>\n",
       "      <td>0.004728</td>\n",
       "    </tr>\n",
       "  </tbody>\n",
       "</table>\n",
       "</div>"
      ],
      "text/plain": [
       "                   R\n",
       "2005-01-04 -0.012219\n",
       "2005-01-05 -0.006901\n",
       "2005-01-06  0.005085\n",
       "2005-01-07 -0.001434\n",
       "2005-01-10  0.004728"
      ]
     },
     "execution_count": 17,
     "metadata": {},
     "output_type": "execute_result"
    }
   ],
   "source": [
    "df.head()"
   ]
  },
  {
   "cell_type": "markdown",
   "id": "396bda6e",
   "metadata": {},
   "source": [
    "# Compute monthly returns"
   ]
  },
  {
   "cell_type": "code",
   "execution_count": 18,
   "id": "b3fd2569",
   "metadata": {
    "scrolled": true
   },
   "outputs": [],
   "source": [
    "df.index = pd.to_datetime(df.index)"
   ]
  },
  {
   "cell_type": "code",
   "execution_count": 19,
   "id": "44bc6d8f",
   "metadata": {
    "scrolled": true
   },
   "outputs": [],
   "source": [
    "monthly_ret = df.R.resample('M').agg(lambda x: (1 + x).prod() - 1)"
   ]
  },
  {
   "cell_type": "code",
   "execution_count": 20,
   "id": "de5d5525",
   "metadata": {
    "scrolled": true
   },
   "outputs": [],
   "source": [
    "monthly_ret = monthly_ret.to_frame()"
   ]
  },
  {
   "cell_type": "code",
   "execution_count": 21,
   "id": "f57dc5a5",
   "metadata": {
    "scrolled": true
   },
   "outputs": [
    {
     "data": {
      "text/html": [
       "<div>\n",
       "<style scoped>\n",
       "    .dataframe tbody tr th:only-of-type {\n",
       "        vertical-align: middle;\n",
       "    }\n",
       "\n",
       "    .dataframe tbody tr th {\n",
       "        vertical-align: top;\n",
       "    }\n",
       "\n",
       "    .dataframe thead th {\n",
       "        text-align: right;\n",
       "    }\n",
       "</style>\n",
       "<table border=\"1\" class=\"dataframe\">\n",
       "  <thead>\n",
       "    <tr style=\"text-align: right;\">\n",
       "      <th></th>\n",
       "      <th>R</th>\n",
       "    </tr>\n",
       "  </thead>\n",
       "  <tbody>\n",
       "    <tr>\n",
       "      <th>2005-01-31</th>\n",
       "      <td>-0.017789</td>\n",
       "    </tr>\n",
       "    <tr>\n",
       "      <th>2005-02-28</th>\n",
       "      <td>0.020904</td>\n",
       "    </tr>\n",
       "    <tr>\n",
       "      <th>2005-03-31</th>\n",
       "      <td>-0.018293</td>\n",
       "    </tr>\n",
       "    <tr>\n",
       "      <th>2005-04-30</th>\n",
       "      <td>-0.018735</td>\n",
       "    </tr>\n",
       "    <tr>\n",
       "      <th>2005-05-31</th>\n",
       "      <td>0.032225</td>\n",
       "    </tr>\n",
       "  </tbody>\n",
       "</table>\n",
       "</div>"
      ],
      "text/plain": [
       "                   R\n",
       "2005-01-31 -0.017789\n",
       "2005-02-28  0.020904\n",
       "2005-03-31 -0.018293\n",
       "2005-04-30 -0.018735\n",
       "2005-05-31  0.032225"
      ]
     },
     "execution_count": 21,
     "metadata": {},
     "output_type": "execute_result"
    }
   ],
   "source": [
    "monthly_ret.head()"
   ]
  },
  {
   "cell_type": "markdown",
   "id": "bcce05c4",
   "metadata": {},
   "source": [
    "# Plot Returns data\n",
    "\n",
    "- Histogram\n",
    "- Q-Q Plot\n",
    "- Boxplot\n",
    "- Time Series"
   ]
  },
  {
   "cell_type": "code",
   "execution_count": 22,
   "id": "fb97c976",
   "metadata": {
    "scrolled": false
   },
   "outputs": [
    {
     "data": {
      "image/png": "[encoded data removed]",
      "text/plain": [
       "<Figure size 640x480 with 1 Axes>"
      ]
     },
     "metadata": {},
     "output_type": "display_data"
    }
   ],
   "source": [
    "# Histogram\n",
    "ax = monthly_ret.R.hist(bins=30)\n",
    "ax.set_title(\"Monthly returns of the S&P 500 from 2006 to 2023\");"
   ]
  },
  {
   "cell_type": "code",
   "execution_count": 23,
   "id": "88480223",
   "metadata": {},
   "outputs": [
    {
     "data": {
      "text/plain": [
       "0.008215425566089785"
      ]
     },
     "execution_count": 23,
     "metadata": {},
     "output_type": "execute_result"
    }
   ],
   "source": [
    "monthly_ret.R.mean()"
   ]
  },
  {
   "cell_type": "code",
   "execution_count": 24,
   "id": "e6f8425d",
   "metadata": {
    "scrolled": true
   },
   "outputs": [
    {
     "data": {
      "text/plain": [
       "0.00   -0.165187\n",
       "0.25   -0.015706\n",
       "0.50    0.013371\n",
       "0.75    0.034737\n",
       "1.00    0.126984\n",
       "Name: R, dtype: float64"
      ]
     },
     "execution_count": 24,
     "metadata": {},
     "output_type": "execute_result"
    }
   ],
   "source": [
    "monthly_ret.R.quantile([0, 0.25, 0.5, 0.75, 1])"
   ]
  },
  {
   "cell_type": "markdown",
   "id": "a146b198",
   "metadata": {},
   "source": [
    "# Expected Return"
   ]
  },
  {
   "cell_type": "code",
   "execution_count": 25,
   "id": "dc6143b7",
   "metadata": {},
   "outputs": [
    {
     "data": {
      "text/plain": [
       "0.10316393075734065"
      ]
     },
     "execution_count": 25,
     "metadata": {},
     "output_type": "execute_result"
    }
   ],
   "source": [
    "# with the mean we get 10% per annum, which is reasonable!\n",
    "(1 + monthly_ret.R.mean() ) ** 12 -1"
   ]
  },
  {
   "cell_type": "markdown",
   "id": "b1e75c87",
   "metadata": {},
   "source": [
    "# Visualizing univariate distributions"
   ]
  },
  {
   "cell_type": "code",
   "execution_count": 26,
   "id": "2439dfe4",
   "metadata": {
    "scrolled": false
   },
   "outputs": [
    {
     "data": {
      "image/png": "[encoded data removed]",
      "text/plain": [
       "<Figure size 640x480 with 1 Axes>"
      ]
     },
     "metadata": {},
     "output_type": "display_data"
    }
   ],
   "source": [
    "# Q-Q plot\n",
    "import scipy.stats as stats\n",
    "\n",
    "stats.probplot(monthly_ret.R, dist=\"norm\", plot=plt);"
   ]
  },
  {
   "cell_type": "code",
   "execution_count": 27,
   "id": "f9fb7da9",
   "metadata": {},
   "outputs": [
    {
     "data": {
      "text/plain": [
       "0.25   -0.015706\n",
       "0.50    0.013371\n",
       "0.75    0.034737\n",
       "Name: R, dtype: float64"
      ]
     },
     "execution_count": 27,
     "metadata": {},
     "output_type": "execute_result"
    }
   ],
   "source": [
    "monthly_ret.R.quantile([0.25, 0.5, 0.75])"
   ]
  },
  {
   "cell_type": "code",
   "execution_count": 28,
   "id": "af8d666c",
   "metadata": {
    "scrolled": false
   },
   "outputs": [
    {
     "data": {
      "text/plain": [
       "<AxesSubplot:>"
      ]
     },
     "execution_count": 28,
     "metadata": {},
     "output_type": "execute_result"
    },
    {
     "data": {
      "image/png": "[encoded data removed]",
      "text/plain": [
       "<Figure size 640x480 with 1 Axes>"
      ]
     },
     "metadata": {},
     "output_type": "display_data"
    }
   ],
   "source": [
    "# Boxplot\n",
    "monthly_ret.boxplot('R')"
   ]
  },
  {
   "cell_type": "code",
   "execution_count": 29,
   "id": "4ec1966d",
   "metadata": {
    "scrolled": false
   },
   "outputs": [
    {
     "data": {
      "image/png": "[encoded data removed]",
      "text/plain": [
       "<Figure size 1400x600 with 3 Axes>"
      ]
     },
     "metadata": {},
     "output_type": "display_data"
    }
   ],
   "source": [
    "fig, (ax1, ax2, ax3) = plt.subplots(nrows=1, ncols=3);\n",
    "\n",
    "monthly_ret.R.hist(bins=30, ax=ax1);\n",
    "ax1.axvline(monthly_ret.R.mean(), color='k', linestyle='dashed', linewidth=1);\n",
    "\n",
    "monthly_ret.boxplot('R', ax=ax2);\n",
    "stats.probplot(monthly_ret.R, dist=\"norm\", plot=ax3);\n",
    "\n",
    "# plt.tight_layout()\n",
    "fig.set_size_inches(14, 6)"
   ]
  },
  {
   "cell_type": "markdown",
   "id": "c4fbaf6c",
   "metadata": {},
   "source": [
    "## Add titles to each subplot"
   ]
  },
  {
   "cell_type": "code",
   "execution_count": 30,
   "id": "60feb7e1",
   "metadata": {
    "scrolled": false
   },
   "outputs": [
    {
     "data": {
      "image/png": "[encoded data removed]",
      "text/plain": [
       "<Figure size 1400x600 with 3 Axes>"
      ]
     },
     "metadata": {},
     "output_type": "display_data"
    }
   ],
   "source": [
    "# Add the main title\n",
    "fig, (ax1, ax2, ax3) = plt.subplots(nrows=1, ncols=3);\n",
    "\n",
    "monthly_ret.R.hist(bins=30, ax=ax1);\n",
    "ax1.axvline(monthly_ret.R.mean(), color='k', linestyle='dashed', linewidth=1);\n",
    "ax1.set_title(\"Histogram of daily returns of S&P 500\")\n",
    "\n",
    "monthly_ret.boxplot('R', ax=ax2);\n",
    "ax2.set_title(\"Boxplot of daily returns of S&P 500\")\n",
    "\n",
    "stats.probplot(monthly_ret.R, dist=\"norm\", plot=ax3);\n",
    "\n",
    "plt.tight_layout()\n",
    "fig.set_size_inches(14, 6)"
   ]
  },
  {
   "cell_type": "code",
   "execution_count": null,
   "id": "7b4e7343",
   "metadata": {
    "scrolled": true
   },
   "outputs": [],
   "source": []
  },
  {
   "cell_type": "code",
   "execution_count": null,
   "id": "e9f248e8",
   "metadata": {
    "scrolled": true
   },
   "outputs": [],
   "source": []
  },
  {
   "cell_type": "code",
   "execution_count": null,
   "id": "09653b87",
   "metadata": {
    "scrolled": true
   },
   "outputs": [],
   "source": []
  },
  {
   "cell_type": "code",
   "execution_count": null,
   "id": "a3f12495",
   "metadata": {
    "scrolled": true
   },
   "outputs": [],
   "source": []
  },
  {
   "cell_type": "code",
   "execution_count": null,
   "id": "16c3a45c",
   "metadata": {
    "scrolled": true
   },
   "outputs": [],
   "source": []
  },
  {
   "cell_type": "code",
   "execution_count": null,
   "id": "ef9449f7",
   "metadata": {
    "scrolled": true
   },
   "outputs": [],
   "source": []
  },
  {
   "cell_type": "code",
   "execution_count": null,
   "id": "cf002fa4",
   "metadata": {
    "scrolled": true
   },
   "outputs": [],
   "source": []
  },
  {
   "cell_type": "code",
   "execution_count": null,
   "id": "02792f2a",
   "metadata": {
    "scrolled": true
   },
   "outputs": [],
   "source": []
  },
  {
   "cell_type": "code",
   "execution_count": null,
   "id": "104b6158",
   "metadata": {
    "scrolled": true
   },
   "outputs": [],
   "source": []
  },
  {
   "cell_type": "code",
   "execution_count": null,
   "id": "3a88732b",
   "metadata": {},
   "outputs": [],
   "source": []
  }
 ],
 "metadata": {
  "kernelspec": {
   "display_name": "Python [conda env:tabular]",
   "language": "python",
   "name": "conda-env-tabular-py"
  },
  "language_info": {
   "codemirror_mode": {
    "name": "ipython",
    "version": 3
   },
   "file_extension": ".py",
   "mimetype": "text/x-python",
   "name": "python",
   "nbconvert_exporter": "python",
   "pygments_lexer": "ipython3",
   "version": "3.9.16"
  }
 },
 "nbformat": 4,
 "nbformat_minor": 5
}
